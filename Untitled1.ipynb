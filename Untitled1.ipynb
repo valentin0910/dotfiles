{
 "cells": [
  {
   "cell_type": "code",
   "execution_count": null,
   "metadata": {},
   "outputs": [],
   "source": []
  }
 ],
 "metadata": {
  "kernelspec": {
   "display_name": "Python 3.10.6 64-bit ('shims')",
   "language": "python",
   "name": "python3"
  },
  "language_info": {
   "name": "python",
   "version": "3.10.6"
  },
  "vscode": {
   "interpreter": {
    "hash": "2fae065fea68b6d87a84ae447ad6f024e6b0b875723010a585d3b236e611db70"
   }
  }
 },
 "nbformat": 4,
 "nbformat_minor": 5
}
